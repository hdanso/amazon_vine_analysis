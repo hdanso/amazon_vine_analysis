{
  "nbformat": 4,
  "nbformat_minor": 0,
  "metadata": {
    "colab": {
      "provenance": []
    },
    "kernelspec": {
      "name": "python3",
      "display_name": "Python 3"
    },
    "language_info": {
      "name": "python"
    }
  },
  "cells": [
    {
      "cell_type": "code",
      "source": [
        "import os\n",
        "# Find the latest version of spark 3.2 from http://www.apache.org/dist/spark/ and enter as the spark version\n",
        "# For example:\n",
        "# spark_version = 'spark-3.2.3'\n",
        "spark_version = 'spark-3.2.3'\n",
        "os.environ['SPARK_VERSION']=spark_version\n",
        "\n",
        "# Install Spark and Java\n",
        "!apt-get update\n",
        "!apt-get install openjdk-11-jdk-headless -qq > /dev/null\n",
        "!wget -q http://www.apache.org/dist/spark/$SPARK_VERSION/$SPARK_VERSION-bin-hadoop2.7.tgz\n",
        "!tar xf $SPARK_VERSION-bin-hadoop2.7.tgz\n",
        "!pip install -q findspark\n",
        "\n",
        "# Set Environment Variables\n",
        "import os\n",
        "os.environ[\"JAVA_HOME\"] = \"/usr/lib/jvm/java-11-openjdk-amd64\"\n",
        "os.environ[\"SPARK_HOME\"] = f\"/content/{spark_version}-bin-hadoop2.7\"\n",
        "\n",
        "# Start a SparkSession\n",
        "import findspark\n",
        "findspark.init()"
      ],
      "metadata": {
        "colab": {
          "base_uri": "https://localhost:8080/"
        },
        "id": "ybXOAQxZyIb0",
        "outputId": "8c142b88-e6a5-4797-e5b3-d21e5fe05bad"
      },
      "execution_count": null,
      "outputs": [
        {
          "output_type": "stream",
          "name": "stdout",
          "text": [
            "\r0% [Working]\r            \rHit:1 https://cloud.r-project.org/bin/linux/ubuntu bionic-cran40/ InRelease\n",
            "\r0% [Connecting to archive.ubuntu.com (91.189.91.39)] [Waiting for headers] [Con\r0% [1 InRelease gpgv 3,626 B] [Connecting to archive.ubuntu.com (91.189.91.39)]\r                                                                               \rHit:2 http://security.ubuntu.com/ubuntu bionic-security InRelease\n",
            "\r0% [1 InRelease gpgv 3,626 B] [Waiting for headers] [Connected to developer.dow\r                                                                               \rHit:3 http://archive.ubuntu.com/ubuntu bionic InRelease\n",
            "\r0% [1 InRelease gpgv 3,626 B] [Waiting for headers] [Waiting for headers] [Conn\r                                                                               \rHit:4 http://archive.ubuntu.com/ubuntu bionic-updates InRelease\n",
            "\r0% [1 InRelease gpgv 3,626 B] [Waiting for headers] [Waiting for headers] [Conn\r                                                                               \rGet:5 http://archive.ubuntu.com/ubuntu bionic-backports InRelease [83.3 kB]\n",
            "\r0% [1 InRelease gpgv 3,626 B] [5 InRelease 11.3 kB/83.3 kB 14%] [Waiting for he\r                                                                               \r0% [1 InRelease gpgv 3,626 B] [Waiting for headers] [Waiting for headers]\r                                                                         \r0% [Waiting for headers] [Waiting for headers]\r                                              \rHit:6 http://ppa.launchpad.net/c2d4u.team/c2d4u4.0+/ubuntu bionic InRelease\n",
            "\r0% [Waiting for headers] [Connecting to ppa.launchpad.net (185.125.190.52)]\r0% [2 InRelease gpgv 88.7 kB] [Waiting for headers] [Connecting to ppa.launchpa\r                                                                               \rIgn:7 https://developer.download.nvidia.com/compute/machine-learning/repos/ubuntu1804/x86_64  InRelease\n",
            "\r0% [2 InRelease gpgv 88.7 kB] [Waiting for headers] [Connecting to ppa.launchpa\r                                                                               \rHit:8 https://developer.download.nvidia.com/compute/cuda/repos/ubuntu1804/x86_64  InRelease\n",
            "Hit:9 https://developer.download.nvidia.com/compute/machine-learning/repos/ubuntu1804/x86_64  Release\n",
            "Hit:10 http://ppa.launchpad.net/cran/libgit2/ubuntu bionic InRelease\n",
            "Hit:11 http://ppa.launchpad.net/deadsnakes/ppa/ubuntu bionic InRelease\n",
            "Hit:12 http://ppa.launchpad.net/graphics-drivers/ppa/ubuntu bionic InRelease\n",
            "Fetched 83.3 kB in 2s (54.8 kB/s)\n",
            "Reading package lists... Done\n"
          ]
        }
      ]
    },
    {
      "cell_type": "code",
      "source": [
        "# Start Spark Session\n",
        "from pyspark.sql import SparkSession\n",
        "spark = SparkSession.builder.appName('VineAnalysis').getOrCreate()"
      ],
      "metadata": {
        "id": "3HfUFR4rynAI"
      },
      "execution_count": null,
      "outputs": []
    },
    {
      "cell_type": "code",
      "source": [
        "# Extract and load Amazon data into a spark DataFrame\n",
        "from pyspark import SparkFiles\n",
        "url = \"https://s3.amazonaws.com/amazon-reviews-pds/tsv/amazon_reviews_us_Health_Personal_Care_v1_00.tsv.gz\"\n",
        "spark.sparkContext.addFile(url)\n",
        "df = spark.read.option(\"encoding\", \"UTF-8\").csv(SparkFiles.get(\"\"), sep=\"\\t\", header=True, inferSchema=True)\n",
        "df.show()"
      ],
      "metadata": {
        "colab": {
          "base_uri": "https://localhost:8080/"
        },
        "id": "tSrKlcC-yyas",
        "outputId": "00f1ba4e-dbcb-4e11-f994-6ce5cd48b84c"
      },
      "execution_count": null,
      "outputs": [
        {
          "output_type": "stream",
          "name": "stdout",
          "text": [
            "+-----------+-----------+--------------+----------+--------------+--------------------+--------------------+-----------+-------------+-----------+----+-----------------+--------------------+--------------------+-----------+\n",
            "|marketplace|customer_id|     review_id|product_id|product_parent|       product_title|    product_category|star_rating|helpful_votes|total_votes|vine|verified_purchase|     review_headline|         review_body|review_date|\n",
            "+-----------+-----------+--------------+----------+--------------+--------------------+--------------------+-----------+-------------+-----------+----+-----------------+--------------------+--------------------+-----------+\n",
            "|         US|     650634| R3EQSTM9PWRAL|B0091LBZSU|     578484426|Demograss Capsule...|Health & Personal...|          3|            0|          0|   N|                Y|         Three Stars|Only came with 30...| 2015-08-31|\n",
            "|         US|   19827510| RBWPRK17XKIXD|B00PWW3LQ6|     456433146|Viva Labs #1 Prem...|Health & Personal...|          5|            0|          0|   N|                Y|A good portable s...|Really yummy and ...| 2015-08-31|\n",
            "|         US|    1520474| RRSLOAF273XFC|B00DKEWA92|     460764511|     Whip-it Cleaner|Health & Personal...|          5|            1|          2|   N|                Y|       You need this|You cannot go wro...| 2015-08-31|\n",
            "|         US|   23905905|R3S8W9Q6SWIT8O|B0015R3A7M|     135102038|Optimum Nutrition...|Health & Personal...|          4|            0|          0|   N|                Y|this is a good vi...|This is a good da...| 2015-08-31|\n",
            "|         US|   28215779|R3QQ6NSLRVBFJC|B006B8U8BG|     200666829|Wet-Stop3 Bedwett...|Health & Personal...|          4|            0|          0|   N|                Y|progress is defin...|We have been usin...| 2015-08-31|\n",
            "|         US|   23260912|R2XYDBMHUVJCSX|B00PFZFD8Y|     344168617|NatraCure Plantar...|Health & Personal...|          2|            0|          1|   N|                Y|           Two Stars|I wear it a few t...| 2015-08-31|\n",
            "|         US|    7965616|R1L94ESVC657A9|B0034792JG|     291831570|Glade Sense & Spr...|Health & Personal...|          5|            0|          0|   N|                Y|          Five Stars|Love this product...| 2015-08-31|\n",
            "|         US|    3443178|R3DI4B8LDWFQ3K|B000052XIA|     493678550|Vagisil Anti-Itch...|Health & Personal...|          1|            3|          4|   N|                Y|It still is itchi...|It still is itchi...| 2015-08-31|\n",
            "|         US|   20838781|R1G7VV4HCXUQQL|B004GCUK8A|       3902598|Glade Automatic S...|Health & Personal...|          5|            0|          0|   N|                Y|          Five Stars|               Good!| 2015-08-31|\n",
            "|         US|   15267517|R3TTNYN1TAMUSU|B00K7W1QAO|     633971374|Kirkland Signatur...|Health & Personal...|          5|            0|          0|   N|                Y|      Will buy again|These bags are ma...| 2015-08-31|\n",
            "|         US|   30105089|R3AMX2D9HMWV6Z|B0034KYA36|     854858899|Zyrtec Prescripti...|Health & Personal...|          5|            0|          0|   N|                Y|         Good price!|Delivered product...| 2015-08-31|\n",
            "|         US|    1622207|R3PO3K321GY8HI|B00C7UZTT8|     264608272|Pure Garcinia Cam...|Health & Personal...|          1|            0|          0|   N|                Y|       Doesn't work.|So far I've felt ...| 2015-08-31|\n",
            "|         US|   29856075| RVQ0UNYX6IEVK|B005F9XFN0|     638667060|Now  Better Stevi...|Health & Personal...|          1|            0|          1|   N|                Y|           not quite|Not nearly as goo...| 2015-08-31|\n",
            "|         US|   52319463|R25E9NIGO2XQ3D|B00Q8YSPTU|     130354267|Now Foods Stevia ...|Health & Personal...|          5|            0|          0|   N|                Y|Reasonably priced...|Reasonably priced...| 2015-08-31|\n",
            "|         US|   16857013|R3GIEXIIIR2G9Y|B00N34HBVG|     700530604|Compression Thigh...|Health & Personal...|          1|            0|          0|   N|                Y|DO NOT BUY!!!! Ve...|They are sooooooo...| 2015-08-31|\n",
            "|         US|   12269680|R264BH3U417NXF|B002UN2UKS|     731161248|Brownmed SEAL-TIG...|Health & Personal...|          5|            0|          0|   N|                Y|Worked Great!! Ve...|Worked Great!!  V...| 2015-08-31|\n",
            "|         US|   29116955|R2C6S0XJIMP0Z2|B003265KYK|     719831457|Botanic Choice Gl...|Health & Personal...|          5|            0|          0|   N|                Y|          Five Stars|Great price, on t...| 2015-08-31|\n",
            "|         US|   14533949|R2LRJYGC2YYR2F|B00939J5T6|     377517622|Shibari SHIB-WHT ...|Health & Personal...|          2|            0|          0|   N|                Y|Cant handle long ...|Broke down after ...| 2015-08-31|\n",
            "|         US|   11274313|R3SVW9ZP1CZPW7|B00LJOQKRI|     376583016|Eyekepper 5-pack ...|Health & Personal...|          1|            0|          1|   N|                Y|            One Star|I think the presc...| 2015-08-31|\n",
            "|         US|   14861684|R1GLA6RQUF4Q79|B002TG3QPO|     813956658|Isopure Zero Carb...|Health & Personal...|          4|            0|          0|   N|                Y|          Four Stars|            Loved it| 2015-08-31|\n",
            "+-----------+-----------+--------------+----------+--------------+--------------------+--------------------+-----------+-------------+-----------+----+-----------------+--------------------+--------------------+-----------+\n",
            "only showing top 20 rows\n",
            "\n"
          ]
        }
      ]
    },
    {
      "cell_type": "code",
      "execution_count": 20,
      "metadata": {
        "colab": {
          "base_uri": "https://localhost:8080/"
        },
        "id": "ktmzfl8Qx33Z",
        "outputId": "6f165d3e-40b9-4ef5-c708-9da41e197139"
      },
      "outputs": [
        {
          "output_type": "stream",
          "name": "stdout",
          "text": [
            "+--------------+-----------+-------------+-----------+----+-----------------+\n",
            "|     review_id|star_rating|helpful_votes|total_votes|vine|verified_purchase|\n",
            "+--------------+-----------+-------------+-----------+----+-----------------+\n",
            "| R3EQSTM9PWRAL|          3|            0|          0|   N|                Y|\n",
            "| RBWPRK17XKIXD|          5|            0|          0|   N|                Y|\n",
            "| RRSLOAF273XFC|          5|            1|          2|   N|                Y|\n",
            "|R3S8W9Q6SWIT8O|          4|            0|          0|   N|                Y|\n",
            "|R3QQ6NSLRVBFJC|          4|            0|          0|   N|                Y|\n",
            "|R2XYDBMHUVJCSX|          2|            0|          1|   N|                Y|\n",
            "|R1L94ESVC657A9|          5|            0|          0|   N|                Y|\n",
            "|R3DI4B8LDWFQ3K|          1|            3|          4|   N|                Y|\n",
            "|R1G7VV4HCXUQQL|          5|            0|          0|   N|                Y|\n",
            "|R3TTNYN1TAMUSU|          5|            0|          0|   N|                Y|\n",
            "|R3AMX2D9HMWV6Z|          5|            0|          0|   N|                Y|\n",
            "|R3PO3K321GY8HI|          1|            0|          0|   N|                Y|\n",
            "| RVQ0UNYX6IEVK|          1|            0|          1|   N|                Y|\n",
            "|R25E9NIGO2XQ3D|          5|            0|          0|   N|                Y|\n",
            "|R3GIEXIIIR2G9Y|          1|            0|          0|   N|                Y|\n",
            "|R264BH3U417NXF|          5|            0|          0|   N|                Y|\n",
            "|R2C6S0XJIMP0Z2|          5|            0|          0|   N|                Y|\n",
            "|R2LRJYGC2YYR2F|          2|            0|          0|   N|                Y|\n",
            "|R3SVW9ZP1CZPW7|          1|            0|          1|   N|                Y|\n",
            "|R1GLA6RQUF4Q79|          4|            0|          0|   N|                Y|\n",
            "+--------------+-----------+-------------+-----------+----+-----------------+\n",
            "only showing top 20 rows\n",
            "\n"
          ]
        }
      ],
      "source": [
        "# Recreate the vine_table\n",
        "vine_df = df.select([\"review_id\",\"star_rating\",\"helpful_votes\",\"total_votes\",\"vine\",\"verified_purchase\"])\n",
        "vine_df.show()"
      ]
    },
    {
      "cell_type": "code",
      "source": [
        "# Filter data and create a new table to retrieve all the rows where the total_votes count is equal to or greater than 20\n",
        "filt_vine_df = vine_df.filter(vine_df[\"total_votes\"] >= 20)\n",
        "filt_vine_df.show()"
      ],
      "metadata": {
        "colab": {
          "base_uri": "https://localhost:8080/"
        },
        "id": "CHsA9mGVz_w3",
        "outputId": "9117a860-b2cb-44ac-ad4b-57d85c68acec"
      },
      "execution_count": 26,
      "outputs": [
        {
          "output_type": "stream",
          "name": "stdout",
          "text": [
            "+--------------+-----------+-------------+-----------+----+-----------------+\n",
            "|     review_id|star_rating|helpful_votes|total_votes|vine|verified_purchase|\n",
            "+--------------+-----------+-------------+-----------+----+-----------------+\n",
            "|R2984F9VD9WDJB|          1|           37|         46|   N|                Y|\n",
            "|R218TGWCIAZYNY|          5|          191|        198|   N|                Y|\n",
            "| RGC2TLSBHLPZA|          5|           49|         50|   N|                Y|\n",
            "|R2YYVOW2RYGRM8|          5|           27|         28|   N|                Y|\n",
            "|R2X4WF89XICSB2|          1|           21|         21|   N|                Y|\n",
            "|R1M1KJ4SQE4INF|          5|           20|         21|   N|                N|\n",
            "|R1M8EEGH2TVS0Q|          1|            6|         29|   N|                Y|\n",
            "| RK8MUEWEUGV6V|          4|          105|        113|   N|                N|\n",
            "|R3JF2SBRHZITRZ|          5|           24|         26|   N|                N|\n",
            "| RLJN73T8WUYIR|          5|          124|        128|   N|                Y|\n",
            "| RYA9ESIATW4EC|          1|           23|         27|   N|                N|\n",
            "|R15RF9IWXWX3IH|          5|           25|         31|   N|                N|\n",
            "|R1GNMWLUMCOC6V|          5|           21|         23|   N|                N|\n",
            "|R3F5N905ZVOXES|          1|            3|         35|   N|                N|\n",
            "|R2SLKTWAJ7BR9K|          5|           33|         36|   N|                Y|\n",
            "|R1NKKJ720BC2VM|          5|           25|         28|   N|                Y|\n",
            "|R3ATNR4AESV090|          4|           38|         40|   N|                Y|\n",
            "|R36XRSNV1M0ADW|          5|           82|         95|   N|                Y|\n",
            "|R203G800OB64XF|          3|           57|         72|   N|                N|\n",
            "|R31LBT37BJZE6B|          1|           14|         20|   N|                Y|\n",
            "+--------------+-----------+-------------+-----------+----+-----------------+\n",
            "only showing top 20 rows\n",
            "\n"
          ]
        }
      ]
    },
    {
      "cell_type": "code",
      "source": [
        "# Filter the table above and create a new  table to retrieve all the rows where the number of helpful_votes divided by total_votes is equal to or greater than 50%\n",
        "#new_vine_df = filt_vine_df.filter(filt_vine_df['helpful_votes']/filt_vine_df['total_votes'] >= 0.5)\n",
        "#new_vine_df.show()\n",
        "\n",
        "new_vine_df = filt_vine_df.filter(filt_vine_df[\"helpful_votes\"]/filt_vine_df[\"total_votes\"] >= 0.5)\n",
        "new_vine_df.show()"
      ],
      "metadata": {
        "colab": {
          "base_uri": "https://localhost:8080/"
        },
        "id": "khO9nDJv1E_f",
        "outputId": "4a58822b-f81b-4b05-d531-97af7cda33b2"
      },
      "execution_count": 27,
      "outputs": [
        {
          "output_type": "stream",
          "name": "stdout",
          "text": [
            "+--------------+-----------+-------------+-----------+----+-----------------+\n",
            "|     review_id|star_rating|helpful_votes|total_votes|vine|verified_purchase|\n",
            "+--------------+-----------+-------------+-----------+----+-----------------+\n",
            "|R2984F9VD9WDJB|          1|           37|         46|   N|                Y|\n",
            "|R218TGWCIAZYNY|          5|          191|        198|   N|                Y|\n",
            "| RGC2TLSBHLPZA|          5|           49|         50|   N|                Y|\n",
            "|R2YYVOW2RYGRM8|          5|           27|         28|   N|                Y|\n",
            "|R2X4WF89XICSB2|          1|           21|         21|   N|                Y|\n",
            "|R1M1KJ4SQE4INF|          5|           20|         21|   N|                N|\n",
            "| RK8MUEWEUGV6V|          4|          105|        113|   N|                N|\n",
            "|R3JF2SBRHZITRZ|          5|           24|         26|   N|                N|\n",
            "| RLJN73T8WUYIR|          5|          124|        128|   N|                Y|\n",
            "| RYA9ESIATW4EC|          1|           23|         27|   N|                N|\n",
            "|R15RF9IWXWX3IH|          5|           25|         31|   N|                N|\n",
            "|R1GNMWLUMCOC6V|          5|           21|         23|   N|                N|\n",
            "|R2SLKTWAJ7BR9K|          5|           33|         36|   N|                Y|\n",
            "|R1NKKJ720BC2VM|          5|           25|         28|   N|                Y|\n",
            "|R3ATNR4AESV090|          4|           38|         40|   N|                Y|\n",
            "|R36XRSNV1M0ADW|          5|           82|         95|   N|                Y|\n",
            "|R203G800OB64XF|          3|           57|         72|   N|                N|\n",
            "|R31LBT37BJZE6B|          1|           14|         20|   N|                Y|\n",
            "|R119CG8XK73M2B|          5|           77|         77|   N|                Y|\n",
            "| RCOVDTGR8NH87|          5|           59|         67|   N|                N|\n",
            "+--------------+-----------+-------------+-----------+----+-----------------+\n",
            "only showing top 20 rows\n",
            "\n"
          ]
        }
      ]
    },
    {
      "cell_type": "code",
      "source": [
        "# Filter the table created above and create a new table that retrieves all the rows where a review was written as part of the Vine program (paid)\n",
        "vine_verified = new_vine_df.filter(new_vine_df[\"vine\"] == 'Y')\n",
        "vine_verified.show()"
      ],
      "metadata": {
        "id": "j0TfvOhF3xnh",
        "colab": {
          "base_uri": "https://localhost:8080/"
        },
        "outputId": "678749e3-b324-47b3-f040-44da159dbdfb"
      },
      "execution_count": 28,
      "outputs": [
        {
          "output_type": "stream",
          "name": "stdout",
          "text": [
            "+--------------+-----------+-------------+-----------+----+-----------------+\n",
            "|     review_id|star_rating|helpful_votes|total_votes|vine|verified_purchase|\n",
            "+--------------+-----------+-------------+-----------+----+-----------------+\n",
            "| RG70K1HMY4LXX|          4|           37|         44|   Y|                N|\n",
            "|R1DHGTNXDXJ0GB|          5|           78|         93|   Y|                N|\n",
            "|R3B5S3OSA8N6AO|          5|           38|         43|   Y|                N|\n",
            "|R29X0YBS0SBIUP|          5|           56|         74|   Y|                N|\n",
            "|R1ZEDMCU6NYC8Q|          3|           26|         27|   Y|                N|\n",
            "| RVBJM1LUI9X9K|          5|           27|         28|   Y|                N|\n",
            "| R1KASHD9QSDMV|          4|           18|         21|   Y|                N|\n",
            "|R1M3LATUI38MK0|          5|           46|         50|   Y|                N|\n",
            "|R20JZQ3AQVYNAU|          4|          103|        113|   Y|                N|\n",
            "|R1EHXYTMBO4D28|          1|           56|         61|   Y|                N|\n",
            "|R3FIEE8HAF008L|          1|           23|         26|   Y|                N|\n",
            "| RZJ5628PIAE8M|          4|           23|         23|   Y|                N|\n",
            "|R2YTV8JFB132UU|          5|           29|         35|   Y|                N|\n",
            "| R9B39IY63XE6H|          1|           88|         97|   Y|                N|\n",
            "|R3IYA2K7643J5F|          3|           28|         35|   Y|                N|\n",
            "|R25HQLXMBJABQL|          5|           93|         97|   Y|                N|\n",
            "|R1NCMEN9DCHB2U|          3|           92|        100|   Y|                N|\n",
            "| RFN5GI4LWX31V|          2|           43|         49|   Y|                N|\n",
            "|R1DLUEYOWRMJ2K|          5|          130|        142|   Y|                N|\n",
            "| RXDWRD20KTQO1|          4|           24|         24|   Y|                N|\n",
            "+--------------+-----------+-------------+-----------+----+-----------------+\n",
            "only showing top 20 rows\n",
            "\n"
          ]
        }
      ]
    },
    {
      "cell_type": "code",
      "source": [
        "# Retrieve all the rows where the review was not part of the Vine program (unpaid)\n",
        "vine_unverified = new_vine_df.filter(new_vine_df[\"vine\"] == 'N')\n",
        "vine_unverified.show()"
      ],
      "metadata": {
        "id": "Zq1wrxqq3XuI",
        "colab": {
          "base_uri": "https://localhost:8080/"
        },
        "outputId": "b247fd61-4a42-49fa-ad8c-0a120660747b"
      },
      "execution_count": 30,
      "outputs": [
        {
          "output_type": "stream",
          "name": "stdout",
          "text": [
            "+--------------+-----------+-------------+-----------+----+-----------------+\n",
            "|     review_id|star_rating|helpful_votes|total_votes|vine|verified_purchase|\n",
            "+--------------+-----------+-------------+-----------+----+-----------------+\n",
            "|R2984F9VD9WDJB|          1|           37|         46|   N|                Y|\n",
            "|R218TGWCIAZYNY|          5|          191|        198|   N|                Y|\n",
            "| RGC2TLSBHLPZA|          5|           49|         50|   N|                Y|\n",
            "|R2YYVOW2RYGRM8|          5|           27|         28|   N|                Y|\n",
            "|R2X4WF89XICSB2|          1|           21|         21|   N|                Y|\n",
            "|R1M1KJ4SQE4INF|          5|           20|         21|   N|                N|\n",
            "| RK8MUEWEUGV6V|          4|          105|        113|   N|                N|\n",
            "|R3JF2SBRHZITRZ|          5|           24|         26|   N|                N|\n",
            "| RLJN73T8WUYIR|          5|          124|        128|   N|                Y|\n",
            "| RYA9ESIATW4EC|          1|           23|         27|   N|                N|\n",
            "|R15RF9IWXWX3IH|          5|           25|         31|   N|                N|\n",
            "|R1GNMWLUMCOC6V|          5|           21|         23|   N|                N|\n",
            "|R2SLKTWAJ7BR9K|          5|           33|         36|   N|                Y|\n",
            "|R1NKKJ720BC2VM|          5|           25|         28|   N|                Y|\n",
            "|R3ATNR4AESV090|          4|           38|         40|   N|                Y|\n",
            "|R36XRSNV1M0ADW|          5|           82|         95|   N|                Y|\n",
            "|R203G800OB64XF|          3|           57|         72|   N|                N|\n",
            "|R31LBT37BJZE6B|          1|           14|         20|   N|                Y|\n",
            "|R119CG8XK73M2B|          5|           77|         77|   N|                Y|\n",
            "| RCOVDTGR8NH87|          5|           59|         67|   N|                N|\n",
            "+--------------+-----------+-------------+-----------+----+-----------------+\n",
            "only showing top 20 rows\n",
            "\n"
          ]
        }
      ]
    },
    {
      "cell_type": "code",
      "source": [
        "# Determine the total number of paid reviews\n",
        "from pyspark.sql.functions import count\n",
        "paid_df = vine_df.filter(vine_df[\"vine\"] == 'Y')\n",
        "paid_df.select(count(paid_df.star_rating)).show()"
      ],
      "metadata": {
        "colab": {
          "base_uri": "https://localhost:8080/"
        },
        "id": "oYWpYfnUCgWs",
        "outputId": "690c5cf5-57ba-45d5-f3ac-45c7261d5b3b"
      },
      "execution_count": 32,
      "outputs": [
        {
          "output_type": "stream",
          "name": "stdout",
          "text": [
            "+------------------+\n",
            "|count(star_rating)|\n",
            "+------------------+\n",
            "|             32026|\n",
            "+------------------+\n",
            "\n"
          ]
        }
      ]
    },
    {
      "cell_type": "code",
      "source": [
        "# Determine the total number of unpaid reviews\n",
        "unpaid_df = vine_df.filter(vine_df[\"vine\"] == 'N')\n",
        "unpaid_df.select(count(unpaid_df.star_rating)).show()"
      ],
      "metadata": {
        "colab": {
          "base_uri": "https://localhost:8080/"
        },
        "id": "0kZiC0CwC5HZ",
        "outputId": "80388507-5c25-4624-ed2a-e3cde3ba15fa"
      },
      "execution_count": 33,
      "outputs": [
        {
          "output_type": "stream",
          "name": "stdout",
          "text": [
            "+------------------+\n",
            "|count(star_rating)|\n",
            "+------------------+\n",
            "|           5299189|\n",
            "+------------------+\n",
            "\n"
          ]
        }
      ]
    },
    {
      "cell_type": "code",
      "source": [
        "# Determine the total the number of 5-star paid reviews\n",
        "paid_df.filter(\"star_rating = 5\").count()"
      ],
      "metadata": {
        "colab": {
          "base_uri": "https://localhost:8080/"
        },
        "id": "PAklDftvC934",
        "outputId": "367e6cc8-7fa6-49f0-d01a-02f164acaf55"
      },
      "execution_count": 35,
      "outputs": [
        {
          "output_type": "execute_result",
          "data": {
            "text/plain": [
              "13127"
            ]
          },
          "metadata": {},
          "execution_count": 35
        }
      ]
    },
    {
      "cell_type": "code",
      "source": [
        "# Determine the total the number of 5-star unpaid reviews\n",
        "unpaid_df.filter(\"star_rating = 5\").count()"
      ],
      "metadata": {
        "colab": {
          "base_uri": "https://localhost:8080/"
        },
        "id": "0vxXE3VADC96",
        "outputId": "55ce4357-c362-47f8-b8ec-2dbab98e527f"
      },
      "execution_count": 36,
      "outputs": [
        {
          "output_type": "execute_result",
          "data": {
            "text/plain": [
              "3344959"
            ]
          },
          "metadata": {},
          "execution_count": 36
        }
      ]
    },
    {
      "cell_type": "code",
      "source": [
        "# Determine the percentage of 5-star paid reviews\n",
        "paid_percentage = (13127/32026)*100\n",
        "print(paid_percentage)"
      ],
      "metadata": {
        "colab": {
          "base_uri": "https://localhost:8080/"
        },
        "id": "8v-soNHFDKLs",
        "outputId": "cb41eab2-2b77-4cc2-f4ab-c785463b6f3e"
      },
      "execution_count": 38,
      "outputs": [
        {
          "output_type": "stream",
          "name": "stdout",
          "text": [
            "40.98857178542434\n"
          ]
        }
      ]
    },
    {
      "cell_type": "code",
      "source": [
        "# Determine the percentage of 5-star unpaid reviews\n",
        "unpaid_percentage = (3344959/5299189)*100\n",
        "print(unpaid_percentage)"
      ],
      "metadata": {
        "colab": {
          "base_uri": "https://localhost:8080/"
        },
        "id": "297M1OW4DO9s",
        "outputId": "a2045a1e-f494-4fa6-f52a-72d52a85bf61"
      },
      "execution_count": 39,
      "outputs": [
        {
          "output_type": "stream",
          "name": "stdout",
          "text": [
            "63.12209283345055\n"
          ]
        }
      ]
    }
  ]
}